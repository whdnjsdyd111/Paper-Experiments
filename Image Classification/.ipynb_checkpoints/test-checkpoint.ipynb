{
 "cells": [
  {
   "cell_type": "code",
   "execution_count": 14,
   "id": "f671ee3a-d38c-4ad3-94cd-32540a858cc8",
   "metadata": {},
   "outputs": [],
   "source": [
    "from models.net import EfficientNet as ef\n",
    "from models.net import ViT\n",
    "from torchsummary import summary\n",
    "import torchvision.models as tm\n",
    "\n",
    "import torch\n",
    "import torch.nn as nn"
   ]
  },
  {
   "cell_type": "code",
   "execution_count": null,
   "id": "c042134a-1718-45ab-aa94-cdf091c7a3b3",
   "metadata": {},
   "outputs": [],
   "source": [
    "# ViT 테스트\n",
    "image_size = 224\n",
    "patch_size = 16\n",
    "num_classes, dim, depth, heads, mlp_dim, pool = 'cls', channels = 3, dim_head = 64, dropout = 0., emb_dropout"
   ]
  },
  {
   "cell_type": "code",
   "execution_count": 30,
   "id": "63c42080-4ab6-4596-864d-b220afb721a7",
   "metadata": {},
   "outputs": [],
   "source": [
    "img = torch.rand((3, 224, 224))"
   ]
  },
  {
   "cell_type": "code",
   "execution_count": 32,
   "id": "8190eb0b-7d88-4e1c-918a-10fb37942989",
   "metadata": {},
   "outputs": [
    {
     "name": "stdout",
     "output_type": "stream",
     "text": [
      "torch.Size([3, 224, 224])\n"
     ]
    }
   ],
   "source": [
    "print(r.shape)"
   ]
  },
  {
   "cell_type": "code",
   "execution_count": null,
   "id": "8e31ea59-d677-44ab-b9d2-a3785532eb41",
   "metadata": {},
   "outputs": [],
   "source": []
  }
 ],
 "metadata": {
  "kernelspec": {
   "display_name": "Python 3 (ipykernel)",
   "language": "python",
   "name": "python3"
  },
  "language_info": {
   "codemirror_mode": {
    "name": "ipython",
    "version": 3
   },
   "file_extension": ".py",
   "mimetype": "text/x-python",
   "name": "python",
   "nbconvert_exporter": "python",
   "pygments_lexer": "ipython3",
   "version": "3.8.16"
  }
 },
 "nbformat": 4,
 "nbformat_minor": 5
}
