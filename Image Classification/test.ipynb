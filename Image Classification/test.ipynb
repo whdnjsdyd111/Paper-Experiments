{
 "cells": [
  {
   "cell_type": "code",
   "execution_count": 43,
   "id": "f671ee3a-d38c-4ad3-94cd-32540a858cc8",
   "metadata": {},
   "outputs": [],
   "source": [
    "from models.net import EfficientNet as ef\n",
    "from models.net import ViT\n",
    "from torchsummary import summary\n",
    "import torchvision.models as tm\n",
    "\n",
    "import torch\n",
    "import torch.nn as nn\n",
    "\n",
    "from einops import rearrange, repeat\n",
    "from einops.layers.torch import Rearrange"
   ]
  },
  {
   "cell_type": "code",
   "execution_count": 40,
   "id": "c042134a-1718-45ab-aa94-cdf091c7a3b3",
   "metadata": {},
   "outputs": [],
   "source": [
    "# ViT 테스트\n",
    "image_size = 256\n",
    "patch_size = 32\n",
    "num_classes = 1000\n",
    "dim = 1024\n",
    "depth = 6\n",
    "heads = 16\n",
    "mlp_dim = 2048\n",
    "pool = 'cls' \n",
    "drop= 0.1\n",
    "emb_dropout = 0.1\n",
    "channels = 3"
   ]
  },
  {
   "cell_type": "code",
   "execution_count": 56,
   "id": "63c42080-4ab6-4596-864d-b220afb721a7",
   "metadata": {},
   "outputs": [],
   "source": [
    "img = torch.rand((1, 3, 256, 256))"
   ]
  },
  {
   "cell_type": "code",
   "execution_count": 57,
   "id": "8190eb0b-7d88-4e1c-918a-10fb37942989",
   "metadata": {},
   "outputs": [
    {
     "name": "stdout",
     "output_type": "stream",
     "text": [
      "torch.Size([1, 3, 256, 256])\n"
     ]
    }
   ],
   "source": [
    "print(img.shape)"
   ]
  },
  {
   "cell_type": "code",
   "execution_count": 35,
   "id": "8e31ea59-d677-44ab-b9d2-a3785532eb41",
   "metadata": {},
   "outputs": [
    {
     "name": "stdout",
     "output_type": "stream",
     "text": [
      "256 256\n"
     ]
    }
   ],
   "source": [
    "image_height, image_width = ViT.pair(image_size)\n",
    "\n",
    "print(image_height, image_width)"
   ]
  },
  {
   "cell_type": "code",
   "execution_count": 38,
   "id": "d97d1fab-b31b-44e1-963b-fac544ad6033",
   "metadata": {},
   "outputs": [
    {
     "name": "stdout",
     "output_type": "stream",
     "text": [
      "32 32\n"
     ]
    }
   ],
   "source": [
    "patch_height, patch_width = ViT.pair(patch_size)\n",
    "\n",
    "print(patch_height, patch_width)"
   ]
  },
  {
   "cell_type": "code",
   "execution_count": 41,
   "id": "c9d3cf39-92fd-4176-9e1a-f0905e3600ad",
   "metadata": {},
   "outputs": [
    {
     "name": "stdout",
     "output_type": "stream",
     "text": [
      "64\n",
      "3072\n"
     ]
    }
   ],
   "source": [
    "num_patches = (image_height // patch_height) * (image_width // patch_width) # 패치 개수\n",
    "patch_dim = channels * patch_height * patch_width # 패치 차원 = 채널 수 * W * H\n",
    "\n",
    "print(num_patches)\n",
    "print(patch_dim)"
   ]
  },
  {
   "cell_type": "code",
   "execution_count": 47,
   "id": "bab6bdba-38a5-4572-a32a-b9638aa4890d",
   "metadata": {},
   "outputs": [],
   "source": [
    "to_patch_embedding = nn.Sequential(\n",
    "    Rearrange('b c (h p1) (w p2) -> b (h w) (p1 p2 c)', p1 = patch_height, p2 = patch_width), # H, W 이미지를 각각의 패치로 재배치\n",
    "    nn.LayerNorm(patch_dim),\n",
    "    nn.Linear(patch_dim, dim),\n",
    "    nn.LayerNorm(dim),\n",
    ")"
   ]
  },
  {
   "cell_type": "code",
   "execution_count": 60,
   "id": "01b3d8f0-250f-4f5a-92f5-964dddc7aefa",
   "metadata": {},
   "outputs": [
    {
     "name": "stdout",
     "output_type": "stream",
     "text": [
      "torch.Size([1, 3, 256, 256])\n",
      "torch.Size([1, 64, 1024])\n"
     ]
    }
   ],
   "source": [
    "print(img.shape) \n",
    "# R^C X H X W\n",
    "\n",
    "embedded = to_patch_embedding(img)\n",
    "\n",
    "print(embedded.shape)\n",
    "# "
   ]
  },
  {
   "cell_type": "code",
   "execution_count": 62,
   "id": "fa8b0bab-f6a5-41ce-a873-497cd1e817a9",
   "metadata": {},
   "outputs": [
    {
     "data": {
      "text/plain": [
       "tensor([[[-0.3834, -1.2303, -0.9930,  ..., -1.9549,  0.6584,  0.8574],\n",
       "         [-1.1189,  0.1904,  0.4826,  ..., -0.6484, -0.0601,  0.2265],\n",
       "         [ 0.9308, -0.3168,  1.5880,  ...,  0.6028,  1.3062, -0.8210],\n",
       "         ...,\n",
       "         [-0.1784, -0.4273, -0.3784,  ...,  0.5360, -0.4823, -0.7378],\n",
       "         [-0.7353,  0.4589,  0.3023,  ...,  0.7428,  0.0626, -0.3138],\n",
       "         [-0.1215,  1.0267, -0.8550,  ...,  0.0270,  2.8588,  2.0407]]],\n",
       "       grad_fn=<NativeLayerNormBackward0>)"
      ]
     },
     "execution_count": 62,
     "metadata": {},
     "output_type": "execute_result"
    }
   ],
   "source": [
    "embedded"
   ]
  }
 ],
 "metadata": {
  "kernelspec": {
   "display_name": "Python 3 (ipykernel)",
   "language": "python",
   "name": "python3"
  },
  "language_info": {
   "codemirror_mode": {
    "name": "ipython",
    "version": 3
   },
   "file_extension": ".py",
   "mimetype": "text/x-python",
   "name": "python",
   "nbconvert_exporter": "python",
   "pygments_lexer": "ipython3",
   "version": "3.8.16"
  }
 },
 "nbformat": 4,
 "nbformat_minor": 5
}
